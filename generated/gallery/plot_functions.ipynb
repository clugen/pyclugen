{
  "cells": [
    {
      "cell_type": "code",
      "execution_count": null,
      "metadata": {
        "collapsed": false
      },
      "outputs": [],
      "source": [
        "%matplotlib inline"
      ]
    },
    {
      "cell_type": "markdown",
      "metadata": {},
      "source": [
        "# Plot functions\n\nSeveral auxiliary functions for plotting the examples in this documentation.\n"
      ]
    },
    {
      "cell_type": "markdown",
      "metadata": {},
      "source": [
        "## Import the required libraries\n\n"
      ]
    },
    {
      "cell_type": "code",
      "execution_count": null,
      "metadata": {
        "collapsed": false
      },
      "outputs": [],
      "source": [
        "import matplotlib.pyplot as plt  # type: ignore\nimport numpy as np\nimport numpy.typing as npt\nimport pandas as pd\nimport seaborn as sns  # type: ignore\n\nfrom pyclugen import Clusters"
      ]
    },
    {
      "cell_type": "markdown",
      "metadata": {},
      "source": [
        "## clusters2df\n\n"
      ]
    },
    {
      "cell_type": "code",
      "execution_count": null,
      "metadata": {
        "collapsed": false
      },
      "outputs": [],
      "source": [
        "def clusters2df(\n    *exs: Clusters | dict[str, npt.ArrayLike], clusters_field: str = \"clusters\"\n) -> pd.DataFrame:\n    \"\"\"Convert a sequence of clusters to a Pandas dataframe.\"\"\"\n\n    dfs = []\n    iex = 1\n\n    for ex in exs:\n        if isinstance(ex, dict):\n            points = ex[\"points\"]\n            clusters = ex[clusters_field]\n        else:\n            points = ex.points\n            clusters = ex.clusters\n\n        df = pd.DataFrame(\n            data=points, columns=[f\"x{i}\" for i in range(np.size(points, 1))]\n        )\n        df[\"cluster\"] = clusters.tolist()\n        df[\"example\"] = [iex] * clusters.size\n        dfs.append(df)\n        iex += 1\n\n    return pd.concat(dfs, ignore_index=True)"
      ]
    },
    {
      "cell_type": "markdown",
      "metadata": {},
      "source": [
        "## get_plot_lims\n\n"
      ]
    },
    {
      "cell_type": "code",
      "execution_count": null,
      "metadata": {
        "collapsed": false
      },
      "outputs": [],
      "source": [
        "def get_plot_lims(df: pd.DataFrame, pmargin: float = 0.1):\n    \"\"\"Determine the plot limits for the cluster data given in `df`.\"\"\"\n\n    # Get maximum and minimum points in each dimension\n    xmaxs = df.iloc[:, :-2].max()\n    xmins = df.iloc[:, :-2].min()\n\n    # Determine plot centers in each dimension\n    xcenters = (xmaxs + xmins) / 2\n\n    # Determine plots span for all dimensions\n    sidespan = (1 + pmargin) * np.max(np.abs(xmaxs - xmins)) / 2\n\n    # Determine final plots limits\n    xmaxs = xcenters + sidespan\n    xmins = xcenters - sidespan\n\n    return xmaxs, xmins"
      ]
    },
    {
      "cell_type": "markdown",
      "metadata": {},
      "source": [
        "## plot_examples_1d\n\n"
      ]
    },
    {
      "cell_type": "code",
      "execution_count": null,
      "metadata": {
        "collapsed": false
      },
      "outputs": [],
      "source": [
        "def plot_examples_1d(*ets, ncols: int = 3, clusters_field: str = \"clusters\"):\n    \"\"\"Plot the 1D examples given in the ets parameter.\"\"\"\n\n    # Get examples\n    ex = ets[0::2]\n    # Get titles\n    et = ets[1::2]\n\n    df = clusters2df(*ex, clusters_field=clusters_field)\n\n    # Set seaborn's dark grid style\n    sns.set_theme(style=\"darkgrid\")\n\n    # Use seaborn to create the plots\n    g = sns.FacetGrid(df, col=\"example\", hue=\"cluster\", col_wrap=ncols)\n\n    # Plot the kernel density estimation plots\n    g.map(sns.kdeplot, \"x0\", multiple=\"layer\", fill=True)\n\n    # Get a flattened view of the axes array\n    g_axes = g.axes.reshape(-1)\n\n    # Determine the height of the rugs in the rug plot to 5% of total height\n    rug_height = g_axes[0].get_ylim()[1] * 0.05\n\n    # Plot the rug markers below the kde plots\n    g.map(sns.rugplot, \"x0\", height=rug_height)\n\n    # Set titles\n    for ax, t in zip(g_axes, et):\n        ax.set_title(t)"
      ]
    },
    {
      "cell_type": "markdown",
      "metadata": {},
      "source": [
        "## plot_examples_2d\n\n"
      ]
    },
    {
      "cell_type": "code",
      "execution_count": null,
      "metadata": {
        "collapsed": false
      },
      "outputs": [],
      "source": [
        "def plot_examples_2d(\n    *ets, pmargin: float = 0.1, ncols: int = 3, clusters_field: str = \"clusters\"\n):\n    \"\"\"Plot the 2D examples given in the ets parameter.\"\"\"\n\n    # Get examples\n    ex = ets[0::2]\n    # Get titles\n    et = ets[1::2]\n\n    df = clusters2df(*ex, clusters_field=clusters_field)\n\n    # Get limits in each dimension\n    xmaxs, xmins = get_plot_lims(df, pmargin=pmargin)\n\n    # Set seaborn's dark grid style\n    sns.set_theme(style=\"darkgrid\")\n\n    # Use seaborn to create the plots\n    g = sns.FacetGrid(\n        df,\n        col=\"example\",\n        hue=\"cluster\",\n        xlim=(xmins[0], xmaxs[0]),\n        ylim=(xmins[1], xmaxs[1]),\n        aspect=1,\n        col_wrap=ncols,\n    )\n\n    g.map(sns.scatterplot, \"x0\", \"x1\", s=10)\n\n    # Set the plot titles and x, y labels\n    for ax, t in zip(g.axes, et):\n        ax.set_title(t)\n        ax.set_xlabel(\"x\")\n        ax.set_ylabel(\"y\")"
      ]
    },
    {
      "cell_type": "markdown",
      "metadata": {},
      "source": [
        "## plot_examples_3d\n\n"
      ]
    },
    {
      "cell_type": "code",
      "execution_count": null,
      "metadata": {
        "collapsed": false
      },
      "outputs": [],
      "source": [
        "def plot_examples_3d(\n    *ets,\n    pmargin: float = 0.1,\n    ncols: int = 3,\n    side=350,\n    clusters_field: str = \"clusters\",\n):\n    \"\"\"Plot the 3D examples given in the ets parameter.\"\"\"\n\n    # Get examples\n    ex = ets[0::2]\n    # Get titles\n    et = ets[1::2]\n\n    # Number of plots and number of rows in combined plot\n    num_plots = len(ex)\n    nrows = max(1, int(np.ceil(num_plots / ncols)))\n    blank_plots = nrows * ncols - num_plots\n\n    df = clusters2df(*ex, clusters_field=clusters_field)\n\n    # Get limits in each dimension\n    xmaxs, xmins = get_plot_lims(df, pmargin=pmargin)\n\n    # Reset to default Matplotlib style, to avoid seaborn interference\n    sns.reset_orig()\n\n    # To convert inches to pixels afterwards\n    px = 1 / plt.rcParams[\"figure.dpi\"]  # pixel in inches\n\n    # Use Matplotlib to create the plots\n    _, axs = plt.subplots(\n        nrows,\n        ncols,\n        figsize=(side * px * ncols, side * px * nrows),\n        subplot_kw=dict(projection=\"3d\"),\n    )\n    axs = axs.reshape(-1)\n    for ax, e, t in zip(axs, ex, et):\n        ax.set_title(t, fontsize=10)\n        ax.set_xlim(xmins[0], xmaxs[0])\n        ax.set_ylim(xmins[1], xmaxs[1])\n        ax.set_zlim(xmins[2], xmaxs[2])\n        ax.set_xlabel(\"$x$\", labelpad=-2)\n        ax.set_ylabel(\"$y$\", labelpad=-2)\n        ax.set_zlabel(\"$z$\", labelpad=-2)\n        ax.tick_params(labelsize=8, pad=-2)\n        ax.scatter(\n            e.points[:, 0],\n            e.points[:, 1],\n            e.points[:, 2],\n            c=e.clusters,\n            depthshade=False,\n            edgecolor=\"black\",\n            linewidths=0.2,\n        )\n\n    # Remaining plots are left blank\n    for ax in axs[len(ex) : len(ex) + blank_plots]:\n        ax.set_axis_off()\n        ax.set_facecolor(color=\"white\")\n        ax.patch.set_alpha(0)"
      ]
    },
    {
      "cell_type": "markdown",
      "metadata": {},
      "source": [
        "## plot_examples_nd\n\n"
      ]
    },
    {
      "cell_type": "code",
      "execution_count": null,
      "metadata": {
        "collapsed": false
      },
      "outputs": [],
      "source": [
        "def plot_examples_nd(\n    ex: Clusters, t: str, pmargin: float = 0.1, clusters_field: str = \"clusters\"\n):\n    \"\"\"Plot the nD example given in the ex parameter.\"\"\"\n\n    # How many dimensions?\n    nd = ex.points.shape[1]\n\n    df = clusters2df(ex, clusters_field=clusters_field)\n\n    # Get limits in each dimension\n    xmaxs, xmins = get_plot_lims(df, pmargin=pmargin)\n\n    # Set seaborn's dark grid style\n    sns.set_theme(style=\"darkgrid\")\n\n    # Create pairwise plots with nothing on the diagonal\n    g = sns.PairGrid(df.iloc[:, :-1], hue=\"cluster\", palette=\"deep\")\n    g.map_offdiag(sns.scatterplot, s=10)\n    g.figure.suptitle(t, y=1)\n\n    # Decorate plot\n    for i in range(nd):\n        for j in range(nd):\n            if i == j:\n                # Set the x labels in the diagonal plots\n                xycoord = (xmaxs[i] + xmins[i]) / 2\n                g.axes[i, i].text(\n                    xycoord, xycoord, f\"$x{i}$\", fontsize=20, ha=\"center\", va=\"center\"\n                )\n            else:\n                # Set appropriate plot intervals and aspect ratio\n                g.axes[i, j].set_xlim([xmins[j], xmaxs[j]])\n                g.axes[i, j].set_ylim([xmins[i], xmaxs[i]])\n                g.axes[i, j].set_aspect(1)"
      ]
    }
  ],
  "metadata": {
    "kernelspec": {
      "display_name": "Python 3",
      "language": "python",
      "name": "python3"
    },
    "language_info": {
      "codemirror_mode": {
        "name": "ipython",
        "version": 3
      },
      "file_extension": ".py",
      "mimetype": "text/x-python",
      "name": "python",
      "nbconvert_exporter": "python",
      "pygments_lexer": "ipython3",
      "version": "3.10.6"
    }
  },
  "nbformat": 4,
  "nbformat_minor": 0
}