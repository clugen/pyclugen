{
  "cells": [
    {
      "cell_type": "code",
      "execution_count": null,
      "metadata": {
        "collapsed": false
      },
      "outputs": [],
      "source": [
        "%matplotlib inline"
      ]
    },
    {
      "cell_type": "markdown",
      "metadata": {},
      "source": [
        "# Merging and hierarchical cluster examples\n\nThis section contains several examples on how to merge cluster data, either\ngenerated with **pyclugen** or from other sources. To run the examples we first\nneed to import the [`clugen()`][pyclugen.main.clugen] and\n[`clugen()`][pyclugen.main.clumerge] functions:\n"
      ]
    },
    {
      "cell_type": "code",
      "execution_count": null,
      "metadata": {
        "collapsed": false
      },
      "outputs": [],
      "source": [
        "from pyclugen import clugen, clumerge"
      ]
    },
    {
      "cell_type": "markdown",
      "metadata": {},
      "source": [
        "To make the examples exactly reproducible we'll import a random number\ngenerator from NumPy and pass it as a parameter to\n[`clugen()`][pyclugen.main.clugen]. We'll also create a small helper function\nfor providing us a brand new seeded generator:\n\n"
      ]
    },
    {
      "cell_type": "code",
      "execution_count": null,
      "metadata": {
        "collapsed": false
      },
      "outputs": [],
      "source": [
        "import numpy as np\nfrom numpy.random import PCG64, Generator\n\ndef rng(seed):\n    return Generator(PCG64(seed))"
      ]
    },
    {
      "cell_type": "markdown",
      "metadata": {},
      "source": [
        "Although it is possible to merge data in any dimension, these examples will\nfocus on merging 2D data. Therefore, we'll use the same\n[`plot_examples_2d`](plot_functions.md#plot_examples_2d) function used for\nthe [2D examples](../plot_2_2d_examples):\n\n"
      ]
    },
    {
      "cell_type": "code",
      "execution_count": null,
      "metadata": {
        "collapsed": false
      },
      "outputs": [],
      "source": [
        "from plot_functions import plot_examples_2d"
      ]
    },
    {
      "cell_type": "markdown",
      "metadata": {},
      "source": [
        "## Merging two data sets generated with `clugen()`\n\n"
      ]
    },
    {
      "cell_type": "code",
      "execution_count": null,
      "metadata": {
        "collapsed": false
      },
      "outputs": [],
      "source": [
        "seed1 = 444\nseed2 = 555"
      ]
    },
    {
      "cell_type": "code",
      "execution_count": null,
      "metadata": {
        "collapsed": false
      },
      "outputs": [],
      "source": [
        "e088 = clugen(2, 5, 1000, [1, 1], np.pi / 12, [20, 20], 14, 1.2, 1.5, rng=rng(seed1),\n    proj_dist_fn=\"unif\", point_dist_fn=\"n\")\ne089 = clugen(2, 3, 1500, [1, 0], 0.05, [20, 20], 0, 0, 4, rng=rng(seed2),\n    point_dist_fn=\"n\", cluster_offset = [20, 0])\ne090 = clumerge(e088, e089)"
      ]
    },
    {
      "cell_type": "code",
      "execution_count": null,
      "metadata": {
        "collapsed": false
      },
      "outputs": [],
      "source": [
        "plot_examples_2d(\n    e088, \"e088: data set 1\",\n    e089, \"e089: data set 2\",\n    e090, \"e090: merged data sets\")"
      ]
    },
    {
      "cell_type": "markdown",
      "metadata": {},
      "source": [
        "In the previous example, clusters from individual data sets remain as separate\nclusters in the merged data set. It's also possible to maintain the original\ncluster labels by setting the `clusters_field` parameter to `None`:\n\n"
      ]
    },
    {
      "cell_type": "code",
      "execution_count": null,
      "metadata": {
        "collapsed": false
      },
      "outputs": [],
      "source": [
        "e091 = clumerge(e088, e089, clusters_field=None)"
      ]
    },
    {
      "cell_type": "code",
      "execution_count": null,
      "metadata": {
        "collapsed": false
      },
      "outputs": [],
      "source": [
        "plot_examples_2d(\n    e088, \"e088: data set 1\",\n    e089, \"e089: data set 2\",\n    e091, \"e091: merged data sets\")"
      ]
    },
    {
      "cell_type": "markdown",
      "metadata": {},
      "source": [
        "## Adding noise to a `clugen()`-generated data set\n\n"
      ]
    },
    {
      "cell_type": "code",
      "execution_count": null,
      "metadata": {
        "collapsed": false
      },
      "outputs": [],
      "source": [
        "seed = 333"
      ]
    },
    {
      "cell_type": "code",
      "execution_count": null,
      "metadata": {
        "collapsed": false
      },
      "outputs": [],
      "source": [
        "prng = rng(seed)\ne092 = {\"points\": 120 * prng.random((500, 2)) - 60, \"clusters\": np.ones(500, dtype=np.int32)}\ne093 = clumerge(e092, e090) # clumerge(e092, e088, e089) would also work"
      ]
    },
    {
      "cell_type": "code",
      "execution_count": null,
      "metadata": {
        "collapsed": false
      },
      "outputs": [],
      "source": [
        "plot_examples_2d(\n    e090, \"e090: original merged data sets\",\n    e092, \"e092: random uniform noise\",\n    e093, \"e093: data sets with noise\",\n    pmargin=0)"
      ]
    },
    {
      "cell_type": "markdown",
      "metadata": {},
      "source": [
        "## Merging with data not generated with `clugen()`\n\nData generated with [`clugen()`][pyclugen.main.clugen] can be merged with\nother data sets, for example data created with one of\n[scikit-learn](https://scikit-learn.org/)'s generators:\n\n"
      ]
    },
    {
      "cell_type": "code",
      "execution_count": null,
      "metadata": {
        "collapsed": false
      },
      "outputs": [],
      "source": [
        "seed = 321"
      ]
    },
    {
      "cell_type": "code",
      "execution_count": null,
      "metadata": {
        "collapsed": false
      },
      "outputs": [],
      "source": [
        "from sklearn.datasets import make_moons\n\nX, y = make_moons(100, noise=0.05, random_state=seed)\n\ne094 = {\"points\": X, \"clusters\": y}\ne095 = clugen(2, 4, 200, [1, 1], np.pi / 12, [1, 1], 0.1, 0.01, 0.25, rng=rng(seed),\n    proj_dist_fn = \"unif\", point_dist_fn = \"n\")\ne096 = clumerge(e094, e095)"
      ]
    },
    {
      "cell_type": "code",
      "execution_count": null,
      "metadata": {
        "collapsed": false
      },
      "outputs": [],
      "source": [
        "plt = plot_examples_2d(\n    e094, \"e094: generated w/ make_moons()\",\n    e095, \"e095: generated w/ clugen()\",\n    e096, \"e096: merged data\")"
      ]
    },
    {
      "cell_type": "markdown",
      "metadata": {},
      "source": [
        "We can also hierarchize clusters from different sources:\n\n"
      ]
    },
    {
      "cell_type": "code",
      "execution_count": null,
      "metadata": {
        "collapsed": false
      },
      "outputs": [],
      "source": [
        "e097 = {**e094, \"hclusters\": np.ones(100, dtype=np.int32)}\ne098 = {**e095._asdict(), \"hclusters\": 2 * np.ones(200, np.int32)}\ne099 = clumerge(e097, e098, clusters_field=\"hclusters\")"
      ]
    },
    {
      "cell_type": "code",
      "execution_count": null,
      "metadata": {
        "collapsed": false
      },
      "outputs": [],
      "source": [
        "plt = plot_examples_2d(\n    e097, \"e097: generated w/ make_moons()\",\n    e098, \"e098: generated w/ clugen()\",\n    e099, \"e099: merged data\",\n    clusters_field=\"hclusters\")"
      ]
    }
  ],
  "metadata": {
    "kernelspec": {
      "display_name": "Python 3",
      "language": "python",
      "name": "python3"
    },
    "language_info": {
      "codemirror_mode": {
        "name": "ipython",
        "version": 3
      },
      "file_extension": ".py",
      "mimetype": "text/x-python",
      "name": "python",
      "nbconvert_exporter": "python",
      "pygments_lexer": "ipython3",
      "version": "3.10.12"
    }
  },
  "nbformat": 4,
  "nbformat_minor": 0
}